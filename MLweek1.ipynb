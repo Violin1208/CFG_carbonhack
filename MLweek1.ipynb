{
  "nbformat": 4,
  "nbformat_minor": 0,
  "metadata": {
    "colab": {
      "name": "MLweek1.ipynb",
      "provenance": [],
      "authorship_tag": "ABX9TyOzpBAaoQu5Eocpg+SO19wV",
      "include_colab_link": true
    },
    "kernelspec": {
      "name": "python3",
      "display_name": "Python 3"
    },
    "language_info": {
      "name": "python"
    }
  },
  "cells": [
    {
      "cell_type": "markdown",
      "metadata": {
        "id": "view-in-github",
        "colab_type": "text"
      },
      "source": [
        "<a href=\"https://colab.research.google.com/github/Violin1208/CFG_carbonhack/blob/main/MLweek1.ipynb\" target=\"_parent\"><img src=\"https://colab.research.google.com/assets/colab-badge.svg\" alt=\"Open In Colab\"/></a>"
      ]
    },
    {
      "cell_type": "markdown",
      "source": [
        "09/02/22\n",
        "Convolutional Neural Network trained on MNIST dataset downloaded via keras"
      ],
      "metadata": {
        "id": "Z9i00GmzV9bU"
      }
    },
    {
      "cell_type": "code",
      "execution_count": 1,
      "metadata": {
        "id": "8qRuEQfd56b4"
      },
      "outputs": [],
      "source": [
        "import numpy as np"
      ]
    },
    {
      "cell_type": "code",
      "source": [
        "from keras.datasets import mnist"
      ],
      "metadata": {
        "id": "vyhxuqab6soQ"
      },
      "execution_count": 2,
      "outputs": []
    },
    {
      "cell_type": "code",
      "source": [
        "(X_train, y_train), (X_test, y_test) = mnist.load_data()"
      ],
      "metadata": {
        "colab": {
          "base_uri": "https://localhost:8080/"
        },
        "id": "v4lpYNRp6x8L",
        "outputId": "5e2ead8c-5379-4a4c-fda0-a7100aea46b0"
      },
      "execution_count": 3,
      "outputs": [
        {
          "output_type": "stream",
          "name": "stdout",
          "text": [
            "Downloading data from https://storage.googleapis.com/tensorflow/tf-keras-datasets/mnist.npz\n",
            "11493376/11490434 [==============================] - 0s 0us/step\n",
            "11501568/11490434 [==============================] - 0s 0us/step\n"
          ]
        }
      ]
    },
    {
      "cell_type": "markdown",
      "source": [
        "Check the size of each variable\n"
      ],
      "metadata": {
        "id": "J9sA7HuS7jcz"
      }
    },
    {
      "cell_type": "code",
      "source": [
        "print('X_train: '+ str(X_train.shape))\n",
        "print('Y_train: '+ str(y_train.shape))\n",
        "print('X_test: '+ str(X_test.shape))\n",
        "print('Y_test: '+ str(y_test.shape))"
      ],
      "metadata": {
        "id": "riHuc8F47ngN",
        "colab": {
          "base_uri": "https://localhost:8080/"
        },
        "outputId": "f5ed24bf-68f7-478b-d72f-3a4e3e6fdeea"
      },
      "execution_count": 5,
      "outputs": [
        {
          "output_type": "stream",
          "name": "stdout",
          "text": [
            "X_train: (60000, 28, 28)\n",
            "Y_train: (60000,)\n",
            "X_test: (10000, 28, 28)\n",
            "Y_test: (10000,)\n"
          ]
        }
      ]
    },
    {
      "cell_type": "markdown",
      "source": [
        "How many numbers in the dataset"
      ],
      "metadata": {
        "id": "FrNPG_CUW0nm"
      }
    },
    {
      "cell_type": "code",
      "source": [
        "print('The labels in the training dataset are',np.unique(y_train))\n",
        "print('The labels in the test dataset are',np.unique(y_test))"
      ],
      "metadata": {
        "colab": {
          "base_uri": "https://localhost:8080/"
        },
        "id": "3xHcL1btWzKG",
        "outputId": "df4e35eb-7f64-407b-f22b-cc7b9d6b2513"
      },
      "execution_count": 7,
      "outputs": [
        {
          "output_type": "stream",
          "name": "stdout",
          "text": [
            "The labels in the training dataset are [0 1 2 3 4 5 6 7 8 9]\n",
            "The labels in the test dataset are [0 1 2 3 4 5 6 7 8 9]\n"
          ]
        }
      ]
    },
    {
      "cell_type": "markdown",
      "source": [
        "Viz using matplotlib"
      ],
      "metadata": {
        "id": "eh29g1guX44y"
      }
    },
    {
      "cell_type": "code",
      "source": [
        "from matplotlib import pyplot as plt"
      ],
      "metadata": {
        "id": "H7p-9J8PX-Xs"
      },
      "execution_count": 10,
      "outputs": []
    },
    {
      "cell_type": "code",
      "source": [
        "random_numbers = np.random.choice(len(X_train), size=9)\n",
        "\n",
        "fig, ax = plt.subplots(3,3)\n",
        "\n",
        "for i, index in enumerate(random_numbers):\n",
        "  ax[i//3, i%3].imshow(X_train[index], cmap=plt.get_cmap('gray'))\n",
        "  ax[i//3, i%3].set_title('y_train: %d' %y_train[index])\n",
        "plt.tight_layout()"
      ],
      "metadata": {
        "colab": {
          "base_uri": "https://localhost:8080/",
          "height": 297
        },
        "id": "GJkPPYagYRw7",
        "outputId": "c82c38e4-8d6e-448e-8185-1a10a7e77616"
      },
      "execution_count": 14,
      "outputs": [
        {
          "output_type": "display_data",
          "data": {
            "image/png": "[encoded data removed]",
            "text/plain": [
              "<Figure size 432x288 with 9 Axes>"
            ]
          },
          "metadata": {
            "needs_background": "light"
          }
        }
      ]
    },
    {
      "cell_type": "markdown",
      "source": [
        "Model using keras with tensorflow"
      ],
      "metadata": {
        "id": "B9mWpnpLdIPK"
      }
    },
    {
      "cell_type": "code",
      "source": [
        "import tensorflow as tf\n"
      ],
      "metadata": {
        "id": "4hS3UXWJ90-0"
      },
      "execution_count": 15,
      "outputs": []
    },
    {
      "cell_type": "code",
      "source": [
        "inputs = tf.keras.Input(shape=(28,28,1), name='input')\n",
        "# 2D Covolution layer with 16 neurons and kernel size of 5x5\n",
        "#32 layers and 3 by 3 (kernel size) \n",
        "x = tf.keras.layers.Conv2D(32, (3,3))(inputs)\n",
        "#window of 2x2, not necessary to put 32 as it will be the same\n",
        "x = tf.keras.layers.MaxPool2D((2,2))(x)\n",
        "x = tf.keras.layers.Flatten()(x)\n",
        "x = tf.keras.layers.Dense(32)(x)\n",
        "x = tf.keras.layers.Dense(16)(x)\n",
        "\n",
        "#10 neurons here are my final 10 outputs\n",
        "outputs = tf.keras.layers.Dense(10, activation='sigmoid')(x)\n",
        "\n",
        "\n",
        "model = tf.keras.Model(inputs=[inputs], outputs=[outputs])\n",
        "\n",
        "\n",
        "opt = tf.keras.optimizers.Adam()\n",
        "loss = tf.keras.losses.SparseCategoricalCrossentropy()\n",
        "\n",
        "\n",
        "acc = tf.keras.metrics.SparseCategoricalAccuracy()\n",
        "#compile into a package\n",
        "model.compile(optimizer=opt, loss=loss, metrics=[acc])\n",
        "#summary\n",
        "model.summary()"
      ],
      "metadata": {
        "id": "_X_MoMFe93U5",
        "colab": {
          "base_uri": "https://localhost:8080/"
        },
        "outputId": "ddee01d1-0408-4b47-b3d0-71666887f666"
      },
      "execution_count": 16,
      "outputs": [
        {
          "output_type": "stream",
          "name": "stdout",
          "text": [
            "Model: \"model\"\n",
            "_________________________________________________________________\n",
            " Layer (type)                Output Shape              Param #   \n",
            "=================================================================\n",
            " input (InputLayer)          [(None, 28, 28, 1)]       0         \n",
            "                                                                 \n",
            " conv2d (Conv2D)             (None, 26, 26, 32)        320       \n",
            "                                                                 \n",
            " max_pooling2d (MaxPooling2D  (None, 13, 13, 32)       0         \n",
            " )                                                               \n",
            "                                                                 \n",
            " flatten (Flatten)           (None, 5408)              0         \n",
            "                                                                 \n",
            " dense (Dense)               (None, 32)                173088    \n",
            "                                                                 \n",
            " dense_1 (Dense)             (None, 16)                528       \n",
            "                                                                 \n",
            " dense_2 (Dense)             (None, 10)                170       \n",
            "                                                                 \n",
            "=================================================================\n",
            "Total params: 174,106\n",
            "Trainable params: 174,106\n",
            "Non-trainable params: 0\n",
            "_________________________________________________________________\n"
          ]
        }
      ]
    }
  ]
}